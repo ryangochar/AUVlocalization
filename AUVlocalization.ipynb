{
 "cells": [
  {
   "cell_type": "markdown",
   "id": "999a828a",
   "metadata": {},
   "source": [
    "# AUV Localization Using Dead Reckoning Techniques with IMU Sensor"
   ]
  },
  {
   "cell_type": "code",
   "execution_count": 2,
   "id": "ad8b993f",
   "metadata": {},
   "outputs": [],
   "source": [
    "#Load Libraries\n",
    "import numpy as np            \n",
    "import pandas as pd           \n",
    "import matplotlib.pyplot as plt  \n",
    "import scipy                  \n",
    "import filterpy           "
   ]
  },
  {
   "cell_type": "code",
   "execution_count": 3,
   "id": "31162aaf",
   "metadata": {},
   "outputs": [],
   "source": [
    "#Calculate Orientation\n",
    "\n",
    "def calculate_orientation(a_x, a_y, a_z, previous_pitch, previous_roll):\n",
    "    \n",
    "    alpha = 0.9999\n",
    "    \n",
    "    theta_z = np.arctan2(a_y, a_z)\n",
    "    theta_x = np.arctan2(a_x, np.sqrt(a_y**2 + a_z**2))\n",
    "    pitch = (previous_pitch * alpha) + (theta_x * (1 - alpha))\n",
    "    roll = (previous_roll * alpha) + (theta_z * (1 - alpha))\n",
    "    \n",
    "    return pitch, roll"
   ]
  },
  {
   "cell_type": "code",
   "execution_count": 5,
   "id": "0d5bfeba",
   "metadata": {},
   "outputs": [],
   "source": [
    "#Calculate Velocity\n",
    "\n",
    "def calculate_velocity(a_x, a_y, a_z, previous_velocity_x, previous_velocity_y, previous_velocity_z, delta_t):\n",
    "    \n",
    "    velocity_x = previous_velocity_x + a_x * delta_t\n",
    "    velocity_y = previous_velocity_y + a_y * delta_t\n",
    "    velocity_z = previous_velocity_z + a_z * delta_t\n",
    "    \n",
    "    return velocity_x, velocity_y, velocity_z "
   ]
  },
  {
   "cell_type": "code",
   "execution_count": 6,
   "id": "c69c4bb7",
   "metadata": {},
   "outputs": [],
   "source": [
    "#Calculate Position\n",
    "\n",
    "def calculate_position(previous_position_x, previous_position_y, velocity_x, velocity_y, delta_t):\n",
    "    \n",
    "    position_x = previous_position_x + velocity_x * delta_t\n",
    "    position_y = previous_position_y + velocity_y * delta_t\n",
    "\n",
    "    return new_position_x, new_position_y"
   ]
  },
  {
   "cell_type": "code",
   "execution_count": null,
   "id": "0b08ac09",
   "metadata": {},
   "outputs": [],
   "source": [
    "from filterpy.kalman import ExtendedKalmanFilter\n",
    "\n"
   ]
  },
  {
   "cell_type": "code",
   "execution_count": null,
   "id": "b426de2f",
   "metadata": {},
   "outputs": [],
   "source": [
    "# Initialize variables\n",
    "previous_position_x_1, previous_position_y_1 = 0, 0\n",
    "previous_position_x_2, previous_position_y_2 = 0, 0\n",
    "previous_position_x_b, previous_position_y_b = 0, 0\n",
    "\n",
    "previous_velocity_x_1, previous_velocity_y_1, previous_velocity_z_1 = 0, 0, 0\n",
    "previous_velocity_x_2, previous_velocity_y_2, previous_velocity_z_2 = 0, 0, 0\n",
    "previous_velocity_x_b, previous_velocity_y_b, previous_velocity_z_b = 0, 0, 0\n",
    "\n",
    "previous_pitch_1, previous_roll_1 = 0, 0\n",
    "previous_pitch_2, previous_roll_2 = 0, 0\n",
    "previous_pitch_b, previous_roll_b = 0, 0\n",
    "\n",
    "delta_t = 0.1  # Time step\n",
    "\n",
    "for i in range(len(imu_data_1)):\n",
    "    \n",
    "    filtered_data_1 = ekf(imu_data_1[i])\n",
    "    filtered_data_2 = ekf(imu_data_2[i])\n",
    "    filtered_data_b = ekf_blend(imu_data_1[i], imu_data_2[i])\n",
    "    \n",
    "    #Calculate DR for IMU 1\n",
    "    a_x_1, a_y_1, a_z_1 = filtered_data_1\n",
    "    pitch_1, roll_1 = calculate_orientation(a_x_1, a_y_1, a_z_1, previous_pitch_1, previous_roll_1)\n",
    "    velocity_x_1, velocity_y_1, velocity_z_1 = calculate_velocity(a_x_1, a_y_1, a_z_1, previous_velocity_x_1, previous_velocity_y_1, previous_velocity_z_1, delta_t)\n",
    "    position_x_1, position_y_1 = calculate_position(previous_position_x_1, previous_position_y_1, velocity_x_1, velocity_y_1, delta_t)\n",
    "\n",
    "    #Calculate DR for IMU 2\n",
    "    a_x_2, a_y_2, a_z_2 = filtered_data_2\n",
    "    pitch_2, roll_2 = calculate_orientation(a_x_2, a_y_2, a_z_2, previous_pitch_2, previous_roll_2)\n",
    "    velocity_x_2, velocity_y_2, velocity_z_2 = calculate_velocity(a_x_2, a_y_2, a_z_2, previous_velocity_x_2, previous_velocity_y_2, previous_velocity_z_2, delta_t)\n",
    "    position_x_2, position_y_2 = calculate_position(previous_position_x_2, previous_position_y_2, velocity_x_2, velocity_y_2, delta_t)\n",
    "    \n",
    "    #Calculate DR for blended data\n",
    "    a_x_b, a_y_b, a_z_b = filtered_data_b\n",
    "    pitch_b, roll_b = calculate_orientation(a_x_b, a_y_b, a_z_b, previous_pitch_b, previous_roll_b)\n",
    "    velocity_x_b, velocity_y_b, velocity_z_b = calculate_velocity(a_x_b, a_y_b, a_z_b, previous_velocity_x_b, previous_velocity_y_b, previous_velocity_z_b, delta_t)\n",
    "    position_x_b, position_y_b = calculate_position(previous_position_x_b, previous_position_y_b, velocity_x_b, velocity_y_b, delta_t)\n",
    "    \n",
    "    # Update the previous values for IMU 1\n",
    "    previous_pitch_1, previous_roll_1 = pitch_1, roll_1\n",
    "    previous_velocity_x_1, previous_velocity_y_1, previous_velocity_z_1 = velocity_x_1, velocity_y_1, velocity_z_1\n",
    "    previous_position_x_1, previous_position_y_1 = position_x_1, position_y_1\n",
    "    \n",
    "    # Update the previous values for IMU 2\n",
    "    previous_pitch_2, previous_roll_2 = pitch_2, roll_2\n",
    "    previous_velocity_x_2, previous_velocity_y_2, previous_velocity_z_2 = velocity_x_2, velocity_y_2, velocity_z_2\n",
    "    previous_position_x_2, previous_position_y_2 = position_x_2, position_y_2\n",
    "    \n",
    "    # Update the previous values for blended data\n",
    "    previous_pitch_b, previous_roll_b = pitch_b, roll_b\n",
    "    previous_velocity_x_b, previous_velocity_y_b, previous_velocity_z_b = velocity_x_b, velocity_y_b, velocity_z_b\n",
    "    previous_position_x_b, previous_position_y_b = position_x_b, position_y_b"
   ]
  }
 ],
 "metadata": {
  "kernelspec": {
   "display_name": "Python 3 (ipykernel)",
   "language": "python",
   "name": "python3"
  },
  "language_info": {
   "codemirror_mode": {
    "name": "ipython",
    "version": 3
   },
   "file_extension": ".py",
   "mimetype": "text/x-python",
   "name": "python",
   "nbconvert_exporter": "python",
   "pygments_lexer": "ipython3",
   "version": "3.9.12"
  }
 },
 "nbformat": 4,
 "nbformat_minor": 5
}
