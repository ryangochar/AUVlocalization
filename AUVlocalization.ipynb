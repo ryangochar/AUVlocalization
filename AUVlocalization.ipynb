{
 "cells": [
  {
   "attachments": {},
   "cell_type": "markdown",
   "id": "999a828a",
   "metadata": {},
   "source": [
    "# AUV Localization Using Dead Reckoning Techniques with IMU Sensor"
   ]
  },
  {
   "cell_type": "code",
   "execution_count": null,
   "id": "ad8b993f",
   "metadata": {},
   "outputs": [],
   "source": [
    "#Load Libraries\n"
   ]
  },
  {
   "cell_type": "code",
   "execution_count": null,
   "id": "31162aaf",
   "metadata": {},
   "outputs": [],
   "source": [
    "#Calculate Orientation\n",
    "\n",
    "def orientation(a_x, a_y, a_z):\n",
    "    \n",
    "    alpha = 0.9999\n",
    "    pitch = 0\n",
    "    roll = 0\n",
    "    \n",
    "    theta_z = taninv(a_y,a_z)\n",
    "    theta_x = taninv(a_x,sqrt(a_y^2 + a_z^2)\n",
    "    pitch = pitch + alpha - theta_x * (1 - alpha)\n",
    "    roll = roll + alpha - theta_z * (1-alpha)\n",
    "\n"
   ]
  },
  {
   "cell_type": "code",
   "execution_count": null,
   "id": "0d5bfeba",
   "metadata": {},
   "outputs": [],
   "source": [
    "#Calculate Velocity\n",
    "\n",
    "def velocity(a_x, a_y, a_z)\n",
    "\n",
    "    V_x = 0\n",
    "    V_y = 0\n",
    "    V_z = 0\n",
    "    \n",
    "    dt = \n",
    "    \n",
    "    V_x = V_x + a_x * dt\n",
    "    V_y = V_y + a_y * dt\n",
    "    V_z = V_z + a_z * dt\n",
    "    "
   ]
  }
 ],
 "metadata": {
  "kernelspec": {
   "display_name": "Python 3 (ipykernel)",
   "language": "python",
   "name": "python3"
  },
  "language_info": {
   "codemirror_mode": {
    "name": "ipython",
    "version": 3
   },
   "file_extension": ".py",
   "mimetype": "text/x-python",
   "name": "python",
   "nbconvert_exporter": "python",
   "pygments_lexer": "ipython3",
   "version": "3.9.12"
  }
 },
 "nbformat": 4,
 "nbformat_minor": 5
}
